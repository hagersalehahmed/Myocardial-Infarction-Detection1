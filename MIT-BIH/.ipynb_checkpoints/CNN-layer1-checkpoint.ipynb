{
 "cells": [
  {
   "cell_type": "code",
   "execution_count": null,
   "metadata": {
    "colab": {
     "base_uri": "https://localhost:8080/"
    },
    "executionInfo": {
     "elapsed": 4472,
     "status": "ok",
     "timestamp": 1661357181245,
     "user": {
      "displayName": "hager saleh",
      "userId": "04961961339784377923"
     },
     "user_tz": -120
    },
    "id": "CETtDDAAETDH",
    "outputId": "28bf6eec-3221-42d2-fdb7-cdd22bcde63c"
   },
   "outputs": [
    {
     "name": "stdout",
     "output_type": "stream",
     "text": [
      "Looking in indexes: https://pypi.org/simple, https://us-python.pkg.dev/colab-wheels/public/simple/\n",
      "Collecting keras-tuner\n",
      "  Downloading keras_tuner-1.1.3-py3-none-any.whl (135 kB)\n",
      "\u001b[K     |████████████████████████████████| 135 kB 6.9 MB/s \n",
      "\u001b[?25hRequirement already satisfied: tensorboard in /usr/local/lib/python3.7/dist-packages (from keras-tuner) (2.8.0)\n",
      "Requirement already satisfied: requests in /usr/local/lib/python3.7/dist-packages (from keras-tuner) (2.23.0)\n",
      "Requirement already satisfied: packaging in /usr/local/lib/python3.7/dist-packages (from keras-tuner) (21.3)\n",
      "Requirement already satisfied: numpy in /usr/local/lib/python3.7/dist-packages (from keras-tuner) (1.21.6)\n",
      "Requirement already satisfied: ipython in /usr/local/lib/python3.7/dist-packages (from keras-tuner) (7.9.0)\n",
      "Collecting kt-legacy\n",
      "  Downloading kt_legacy-1.0.4-py3-none-any.whl (9.6 kB)\n",
      "Requirement already satisfied: pexpect in /usr/local/lib/python3.7/dist-packages (from ipython->keras-tuner) (4.8.0)\n",
      "Requirement already satisfied: pygments in /usr/local/lib/python3.7/dist-packages (from ipython->keras-tuner) (2.6.1)\n",
      "Requirement already satisfied: backcall in /usr/local/lib/python3.7/dist-packages (from ipython->keras-tuner) (0.2.0)\n",
      "Requirement already satisfied: setuptools>=18.5 in /usr/local/lib/python3.7/dist-packages (from ipython->keras-tuner) (57.4.0)\n",
      "Requirement already satisfied: decorator in /usr/local/lib/python3.7/dist-packages (from ipython->keras-tuner) (4.4.2)\n",
      "Collecting jedi>=0.10\n",
      "  Downloading jedi-0.18.1-py2.py3-none-any.whl (1.6 MB)\n",
      "\u001b[K     |████████████████████████████████| 1.6 MB 69.1 MB/s \n",
      "\u001b[?25hRequirement already satisfied: pickleshare in /usr/local/lib/python3.7/dist-packages (from ipython->keras-tuner) (0.7.5)\n",
      "Requirement already satisfied: prompt-toolkit<2.1.0,>=2.0.0 in /usr/local/lib/python3.7/dist-packages (from ipython->keras-tuner) (2.0.10)\n",
      "Requirement already satisfied: traitlets>=4.2 in /usr/local/lib/python3.7/dist-packages (from ipython->keras-tuner) (5.1.1)\n",
      "Requirement already satisfied: parso<0.9.0,>=0.8.0 in /usr/local/lib/python3.7/dist-packages (from jedi>=0.10->ipython->keras-tuner) (0.8.3)\n",
      "Requirement already satisfied: wcwidth in /usr/local/lib/python3.7/dist-packages (from prompt-toolkit<2.1.0,>=2.0.0->ipython->keras-tuner) (0.2.5)\n",
      "Requirement already satisfied: six>=1.9.0 in /usr/local/lib/python3.7/dist-packages (from prompt-toolkit<2.1.0,>=2.0.0->ipython->keras-tuner) (1.15.0)\n",
      "Requirement already satisfied: pyparsing!=3.0.5,>=2.0.2 in /usr/local/lib/python3.7/dist-packages (from packaging->keras-tuner) (3.0.9)\n",
      "Requirement already satisfied: ptyprocess>=0.5 in /usr/local/lib/python3.7/dist-packages (from pexpect->ipython->keras-tuner) (0.7.0)\n",
      "Requirement already satisfied: chardet<4,>=3.0.2 in /usr/local/lib/python3.7/dist-packages (from requests->keras-tuner) (3.0.4)\n",
      "Requirement already satisfied: urllib3!=1.25.0,!=1.25.1,<1.26,>=1.21.1 in /usr/local/lib/python3.7/dist-packages (from requests->keras-tuner) (1.24.3)\n",
      "Requirement already satisfied: certifi>=2017.4.17 in /usr/local/lib/python3.7/dist-packages (from requests->keras-tuner) (2022.6.15)\n",
      "Requirement already satisfied: idna<3,>=2.5 in /usr/local/lib/python3.7/dist-packages (from requests->keras-tuner) (2.10)\n",
      "Requirement already satisfied: protobuf>=3.6.0 in /usr/local/lib/python3.7/dist-packages (from tensorboard->keras-tuner) (3.17.3)\n",
      "Requirement already satisfied: werkzeug>=0.11.15 in /usr/local/lib/python3.7/dist-packages (from tensorboard->keras-tuner) (1.0.1)\n",
      "Requirement already satisfied: tensorboard-plugin-wit>=1.6.0 in /usr/local/lib/python3.7/dist-packages (from tensorboard->keras-tuner) (1.8.1)\n",
      "Requirement already satisfied: google-auth-oauthlib<0.5,>=0.4.1 in /usr/local/lib/python3.7/dist-packages (from tensorboard->keras-tuner) (0.4.6)\n",
      "Requirement already satisfied: markdown>=2.6.8 in /usr/local/lib/python3.7/dist-packages (from tensorboard->keras-tuner) (3.4.1)\n",
      "Requirement already satisfied: wheel>=0.26 in /usr/local/lib/python3.7/dist-packages (from tensorboard->keras-tuner) (0.37.1)\n",
      "Requirement already satisfied: google-auth<3,>=1.6.3 in /usr/local/lib/python3.7/dist-packages (from tensorboard->keras-tuner) (1.35.0)\n",
      "Requirement already satisfied: absl-py>=0.4 in /usr/local/lib/python3.7/dist-packages (from tensorboard->keras-tuner) (1.2.0)\n",
      "Requirement already satisfied: grpcio>=1.24.3 in /usr/local/lib/python3.7/dist-packages (from tensorboard->keras-tuner) (1.47.0)\n",
      "Requirement already satisfied: tensorboard-data-server<0.7.0,>=0.6.0 in /usr/local/lib/python3.7/dist-packages (from tensorboard->keras-tuner) (0.6.1)\n",
      "Requirement already satisfied: rsa<5,>=3.1.4 in /usr/local/lib/python3.7/dist-packages (from google-auth<3,>=1.6.3->tensorboard->keras-tuner) (4.9)\n",
      "Requirement already satisfied: pyasn1-modules>=0.2.1 in /usr/local/lib/python3.7/dist-packages (from google-auth<3,>=1.6.3->tensorboard->keras-tuner) (0.2.8)\n",
      "Requirement already satisfied: cachetools<5.0,>=2.0.0 in /usr/local/lib/python3.7/dist-packages (from google-auth<3,>=1.6.3->tensorboard->keras-tuner) (4.2.4)\n",
      "Requirement already satisfied: requests-oauthlib>=0.7.0 in /usr/local/lib/python3.7/dist-packages (from google-auth-oauthlib<0.5,>=0.4.1->tensorboard->keras-tuner) (1.3.1)\n",
      "Requirement already satisfied: importlib-metadata>=4.4 in /usr/local/lib/python3.7/dist-packages (from markdown>=2.6.8->tensorboard->keras-tuner) (4.12.0)\n",
      "Requirement already satisfied: typing-extensions>=3.6.4 in /usr/local/lib/python3.7/dist-packages (from importlib-metadata>=4.4->markdown>=2.6.8->tensorboard->keras-tuner) (4.1.1)\n",
      "Requirement already satisfied: zipp>=0.5 in /usr/local/lib/python3.7/dist-packages (from importlib-metadata>=4.4->markdown>=2.6.8->tensorboard->keras-tuner) (3.8.1)\n",
      "Requirement already satisfied: pyasn1<0.5.0,>=0.4.6 in /usr/local/lib/python3.7/dist-packages (from pyasn1-modules>=0.2.1->google-auth<3,>=1.6.3->tensorboard->keras-tuner) (0.4.8)\n",
      "Requirement already satisfied: oauthlib>=3.0.0 in /usr/local/lib/python3.7/dist-packages (from requests-oauthlib>=0.7.0->google-auth-oauthlib<0.5,>=0.4.1->tensorboard->keras-tuner) (3.2.0)\n",
      "Installing collected packages: jedi, kt-legacy, keras-tuner\n",
      "Successfully installed jedi-0.18.1 keras-tuner-1.1.3 kt-legacy-1.0.4\n"
     ]
    }
   ],
   "source": [
    "pip install keras-tuner"
   ]
  },
  {
   "cell_type": "code",
   "execution_count": 1,
   "metadata": {
    "colab": {
     "base_uri": "https://localhost:8080/"
    },
    "executionInfo": {
     "elapsed": 3100,
     "status": "ok",
     "timestamp": 1661357184335,
     "user": {
      "displayName": "hager saleh",
      "userId": "04961961339784377923"
     },
     "user_tz": -120
    },
    "id": "XjZSolvm8K25",
    "outputId": "0a03b309-b135-4949-a24c-8c433eb6d8b0"
   },
   "outputs": [
    {
     "name": "stderr",
     "output_type": "stream",
     "text": [
      "C:\\Users\\hager\\AppData\\Local\\Temp/ipykernel_88/207050623.py:17: DeprecationWarning: `import kerastuner` is deprecated, please use `import keras_tuner`.\n",
      "  from kerastuner import HyperModel\n"
     ]
    }
   ],
   "source": [
    "import pandas as pd\n",
    "import numpy as np\n",
    "import matplotlib.pyplot as plt\n",
    "from pprint import pprint\n",
    "from sklearn.preprocessing import LabelEncoder \n",
    "le = LabelEncoder() \n",
    "\n",
    "from sklearn.model_selection import train_test_split\n",
    "from sklearn.model_selection import cross_val_predict,cross_val_score\n",
    "\n",
    "from sklearn.model_selection import KFold\n",
    "from sklearn.metrics import classification_report, accuracy_score, precision_score, f1_score, recall_score, confusion_matrix\n",
    "\n",
    "import tensorflow as tf\n",
    "from tensorflow import keras\n",
    "from keras import backend as K\n",
    "from kerastuner import HyperModel\n",
    "from tensorflow import keras\n",
    "from tensorflow.keras import layers\n",
    "from kerastuner.tuners import RandomSearch\n",
    "\n",
    "from tensorflow.keras.callbacks import EarlyStopping\n",
    "from keras import regularizers\n",
    "from tensorflow.keras.layers import BatchNormalization\n",
    "\n",
    "from keras import layers\n",
    "from keras.layers import Input, Dense, Dropout, Activation, ZeroPadding2D, BatchNormalization, Flatten, Conv2D, Embedding, Add\n",
    "\n",
    "from keras.layers import Dense, Flatten, LSTM, Conv1D, MaxPooling1D, Dropout, Activation,GlobalMaxPooling1D\n",
    "from keras.models import Sequential, Model\n",
    "from keras.preprocessing import image"
   ]
  },
  {
   "cell_type": "code",
   "execution_count": null,
   "metadata": {
    "colab": {
     "base_uri": "https://localhost:8080/"
    },
    "executionInfo": {
     "elapsed": 24798,
     "status": "ok",
     "timestamp": 1661357209127,
     "user": {
      "displayName": "hager saleh",
      "userId": "04961961339784377923"
     },
     "user_tz": -120
    },
    "id": "IlzBnQ_z8PAU",
    "outputId": "796aa98f-da63-4dd2-98fb-70932960e7dc"
   },
   "outputs": [
    {
     "name": "stdout",
     "output_type": "stream",
     "text": [
      "Mounted at /content/drive\n"
     ]
    }
   ],
   "source": [
    "from google.colab import drive\n",
    "drive.mount('/content/drive')"
   ]
  },
  {
   "cell_type": "markdown",
   "metadata": {
    "id": "S5zlMlH-QjFz"
   },
   "source": [
    "## Read training dataset"
   ]
  },
  {
   "cell_type": "code",
   "execution_count": null,
   "metadata": {
    "id": "rqNfvg4O8K3B"
   },
   "outputs": [],
   "source": [
    "#read train dataset\n",
    "train=  pd.read_csv('/content/drive/MyDrive/Myocardial Infarction Detection/mitbih_train.csv',encoding='utf-8')\n",
    "test= pd.read_csv('/content/drive/MyDrive/Myocardial Infarction Detection/mitbih_test.csv',encoding='utf-8')"
   ]
  },
  {
   "cell_type": "markdown",
   "metadata": {
    "id": "9Xd6cfsIQ1eS"
   },
   "source": [
    "## convert label to categorical"
   ]
  },
  {
   "cell_type": "code",
   "execution_count": null,
   "metadata": {
    "id": "7Ufs4Y3mIdU3"
   },
   "outputs": [],
   "source": [
    "from keras.utils.np_utils import to_categorical\n",
    "X_train, y_train = train.iloc[: , :-1], train.iloc[: , -1]\n",
    "\n",
    "X_test, y_test = test.iloc[: , :-1], test.iloc[: , -1]\n",
    "\n",
    "y_train = to_categorical(y_train)\n",
    "\n",
    "y_test=to_categorical(y_test)"
   ]
  },
  {
   "cell_type": "code",
   "execution_count": null,
   "metadata": {
    "colab": {
     "base_uri": "https://localhost:8080/"
    },
    "executionInfo": {
     "elapsed": 30,
     "status": "ok",
     "timestamp": 1661357216958,
     "user": {
      "displayName": "hager saleh",
      "userId": "04961961339784377923"
     },
     "user_tz": -120
    },
    "id": "tusq7R1v8K3G",
    "outputId": "e498d62a-f83a-41fb-8acc-a1483c7ef21c"
   },
   "outputs": [
    {
     "name": "stdout",
     "output_type": "stream",
     "text": [
      "X shape=(87553, 187)\n",
      "y shape=(87553, 5)\n",
      "testX shape=(21891, 187)\n",
      "testy shape=(21891, 5)\n"
     ]
    }
   ],
   "source": [
    "print(\"X shape=\" +str(X_train.shape))\n",
    "print(\"y shape=\" +str(y_train.shape))\n",
    "\n",
    "print(\"testX shape=\" +str(X_test.shape))\n",
    "print(\"testy shape=\" +str(y_test.shape))"
   ]
  },
  {
   "cell_type": "markdown",
   "metadata": {
    "id": "VZlo8IktUIXx"
   },
   "source": [
    "## Define some of function that are used as matixs "
   ]
  },
  {
   "cell_type": "code",
   "execution_count": null,
   "metadata": {
    "id": "Q-1WP2Ta8K3K"
   },
   "outputs": [],
   "source": [
    "def recall_m(y_true, y_pred):\n",
    "    true_positives = K.sum(K.round(K.clip(y_true * y_pred, 0, 1)))\n",
    "    possible_positives = K.sum(K.round(K.clip(y_true, 0, 1)))\n",
    "    recall = true_positives / (possible_positives + K.epsilon())\n",
    "    return recall\n",
    "\n",
    "def precision_m(y_true, y_pred):\n",
    "    true_positives = K.sum(K.round(K.clip(y_true * y_pred, 0, 1)))\n",
    "    predicted_positives = K.sum(K.round(K.clip(y_pred, 0, 1)))\n",
    "    precision = true_positives / (predicted_positives + K.epsilon())\n",
    "    return precision\n",
    "\n",
    "def f1_m(y_true, y_pred):\n",
    "    precision = precision_m(y_true, y_pred)\n",
    "    recall = recall_m(y_true, y_pred)\n",
    "    return 2*((precision*recall)/(precision+recall+K.epsilon()))"
   ]
  },
  {
   "cell_type": "markdown",
   "metadata": {
    "id": "HslHUgQJUgJD"
   },
   "source": [
    "## Optimize and build mode "
   ]
  },
  {
   "cell_type": "code",
   "execution_count": null,
   "metadata": {
    "id": "MD_KMEJaj1_L"
   },
   "outputs": [],
   "source": [
    "def build_model(hp):\n",
    "  \n",
    "\n",
    "    dropout_min  =  .1\n",
    "    dropout_max  =  0.9\n",
    "    dropout_step =  0.1\n",
    "    \n",
    "    model = keras.Sequential()\n",
    "    \n",
    "    model.add(\n",
    "        Conv1D(\n",
    "            filters=hp.Choice(\n",
    "                'num_filters1',[16,128] ),input_shape=(187,1), activation='relu', kernel_size=hp.Choice('kernel_size1', [4,5])))\n",
    " \n",
    "\n",
    "    model.add(MaxPooling1D(pool_size=hp.Choice('Pool_Size1', [2])))\n",
    "\n",
    "    model.add(Dropout(rate=hp.Float('dropout1', min_value=dropout_min, max_value=dropout_max , default=dropout_step)))\n",
    "\n",
    "   \n",
    "\n",
    "    model.add(Flatten())\n",
    "    model.add(layers.Dense(units=hp.Int('unit1',  min_value=20,\n",
    "                                                 max_value=500,\n",
    "                                                 step=20),activation = 'relu', \n",
    "                          ))\n",
    "    \n",
    "\n",
    "    model.add(layers.Dense(units=hp.Int('unit2',  min_value=20,\n",
    "                                                 max_value=400,\n",
    "                                                 step=20),activation = 'relu'))\n",
    "\n",
    "    model.add(Dense(5, activation='softmax'))\n",
    "    \n",
    "    model.compile(optimizer=keras.optimizers.Adam( hp.Float('learning_rate',min_value=1e-4,max_value=1e-2)),loss='categorical_crossentropy', metrics=['acc',f1_m,precision_m, recall_m] )\n",
    "    return model\n",
    "\n"
   ]
  },
  {
   "cell_type": "code",
   "execution_count": null,
   "metadata": {
    "id": "yRz18OoBkn_p"
   },
   "outputs": [],
   "source": [
    "\n",
    "tuner = RandomSearch(\n",
    "    build_model,\n",
    "    objective='val_acc',\n",
    "    max_trials=1,\n",
    "    project_name='/content/drive/MyDrive/Myocardial Infarction Detection/CNN_Layer1')\n"
   ]
  },
  {
   "cell_type": "code",
   "execution_count": null,
   "metadata": {
    "colab": {
     "base_uri": "https://localhost:8080/"
    },
    "executionInfo": {
     "elapsed": 29047,
     "status": "ok",
     "timestamp": 1661357249676,
     "user": {
      "displayName": "hager saleh",
      "userId": "04961961339784377923"
     },
     "user_tz": -120
    },
    "id": "ll88A6wkkzq5",
    "outputId": "1bd19541-716a-4df1-fe75-f87790019e40"
   },
   "outputs": [
    {
     "name": "stdout",
     "output_type": "stream",
     "text": [
      "Trial 1 Complete [00h 00m 29s]\n",
      "val_acc: 0.9648714065551758\n",
      "\n",
      "Best val_acc So Far: 0.9648714065551758\n",
      "Total elapsed time: 00h 00m 29s\n"
     ]
    }
   ],
   "source": [
    "epoch=20\n",
    "BATCH_SIZE=1000\n",
    "early_stopping = EarlyStopping(monitor='val_acc', patience=30, verbose=1)\n",
    "callback_list = [ early_stopping ]\n",
    "\n",
    "# split training data into stratified train/dev sets\n",
    "\n",
    "h=tuner.search(X_train, y_train,\n",
    "             epochs=epoch,\n",
    "             batch_size=BATCH_SIZE, \n",
    "             callbacks=callback_list, validation_data=((X_test, y_test)) )\n",
    "            \n",
    "model = tuner.get_best_models(num_models=1)[0]"
   ]
  },
  {
   "cell_type": "code",
   "execution_count": null,
   "metadata": {
    "colab": {
     "base_uri": "https://localhost:8080/"
    },
    "executionInfo": {
     "elapsed": 15,
     "status": "ok",
     "timestamp": 1661357249677,
     "user": {
      "displayName": "hager saleh",
      "userId": "04961961339784377923"
     },
     "user_tz": -120
    },
    "id": "imOLWgZYq_0i",
    "outputId": "8a3f533b-9443-4560-8812-bc769d675d54"
   },
   "outputs": [
    {
     "data": {
      "text/plain": [
       "{'num_filters1': 16,\n",
       " 'kernel_size1': 5,\n",
       " 'Pool_Size1': 2,\n",
       " 'dropout1': 0.5626643218380667,\n",
       " 'unit1': 20,\n",
       " 'unit2': 40,\n",
       " 'learning_rate': 0.0068547653385458525}"
      ]
     },
     "execution_count": 11,
     "metadata": {},
     "output_type": "execute_result"
    }
   ],
   "source": [
    "tuner.get_best_hyperparameters()[0].values"
   ]
  },
  {
   "cell_type": "code",
   "execution_count": null,
   "metadata": {
    "colab": {
     "base_uri": "https://localhost:8080/"
    },
    "executionInfo": {
     "elapsed": 16298,
     "status": "ok",
     "timestamp": 1661357265966,
     "user": {
      "displayName": "hager saleh",
      "userId": "04961961339784377923"
     },
     "user_tz": -120
    },
    "id": "0cwHnZUtregw",
    "outputId": "05d4c60a-f7dc-4d7d-d7ad-4db011f9a862"
   },
   "outputs": [
    {
     "name": "stdout",
     "output_type": "stream",
     "text": [
      "Epoch 1/20\n",
      "88/88 [==============================] - 2s 12ms/step - loss: 0.1485 - acc: 0.9579 - f1_m: 0.9579 - precision_m: 0.9604 - recall_m: 0.9555 - val_loss: 0.1279 - val_acc: 0.9657 - val_f1_m: 0.9653 - val_precision_m: 0.9669 - val_recall_m: 0.9637\n",
      "Epoch 2/20\n",
      "88/88 [==============================] - 1s 9ms/step - loss: 0.1469 - acc: 0.9584 - f1_m: 0.9585 - precision_m: 0.9609 - recall_m: 0.9562 - val_loss: 0.1319 - val_acc: 0.9629 - val_f1_m: 0.9627 - val_precision_m: 0.9643 - val_recall_m: 0.9612\n",
      "Epoch 3/20\n",
      "88/88 [==============================] - 1s 9ms/step - loss: 0.1448 - acc: 0.9591 - f1_m: 0.9592 - precision_m: 0.9616 - recall_m: 0.9568 - val_loss: 0.1250 - val_acc: 0.9658 - val_f1_m: 0.9657 - val_precision_m: 0.9669 - val_recall_m: 0.9646\n",
      "Epoch 4/20\n",
      "88/88 [==============================] - 1s 9ms/step - loss: 0.1452 - acc: 0.9594 - f1_m: 0.9596 - precision_m: 0.9619 - recall_m: 0.9572 - val_loss: 0.1217 - val_acc: 0.9669 - val_f1_m: 0.9669 - val_precision_m: 0.9681 - val_recall_m: 0.9657\n",
      "Epoch 5/20\n",
      "88/88 [==============================] - 1s 9ms/step - loss: 0.1446 - acc: 0.9591 - f1_m: 0.9591 - precision_m: 0.9617 - recall_m: 0.9567 - val_loss: 0.1206 - val_acc: 0.9654 - val_f1_m: 0.9645 - val_precision_m: 0.9660 - val_recall_m: 0.9630\n",
      "Epoch 6/20\n",
      "88/88 [==============================] - 1s 9ms/step - loss: 0.1471 - acc: 0.9581 - f1_m: 0.9581 - precision_m: 0.9605 - recall_m: 0.9556 - val_loss: 0.1254 - val_acc: 0.9654 - val_f1_m: 0.9651 - val_precision_m: 0.9668 - val_recall_m: 0.9633\n",
      "Epoch 7/20\n",
      "88/88 [==============================] - 1s 9ms/step - loss: 0.1432 - acc: 0.9599 - f1_m: 0.9600 - precision_m: 0.9622 - recall_m: 0.9577 - val_loss: 0.1211 - val_acc: 0.9673 - val_f1_m: 0.9674 - val_precision_m: 0.9690 - val_recall_m: 0.9659\n",
      "Epoch 8/20\n",
      "88/88 [==============================] - 1s 9ms/step - loss: 0.1421 - acc: 0.9601 - f1_m: 0.9601 - precision_m: 0.9624 - recall_m: 0.9578 - val_loss: 0.1217 - val_acc: 0.9657 - val_f1_m: 0.9655 - val_precision_m: 0.9668 - val_recall_m: 0.9643\n",
      "Epoch 9/20\n",
      "88/88 [==============================] - 1s 9ms/step - loss: 0.1382 - acc: 0.9604 - f1_m: 0.9606 - precision_m: 0.9628 - recall_m: 0.9584 - val_loss: 0.1188 - val_acc: 0.9675 - val_f1_m: 0.9671 - val_precision_m: 0.9684 - val_recall_m: 0.9658\n",
      "Epoch 10/20\n",
      "88/88 [==============================] - 1s 9ms/step - loss: 0.1402 - acc: 0.9606 - f1_m: 0.9606 - precision_m: 0.9629 - recall_m: 0.9583 - val_loss: 0.1239 - val_acc: 0.9648 - val_f1_m: 0.9644 - val_precision_m: 0.9653 - val_recall_m: 0.9634\n",
      "Epoch 11/20\n",
      "88/88 [==============================] - 1s 9ms/step - loss: 0.1363 - acc: 0.9612 - f1_m: 0.9614 - precision_m: 0.9638 - recall_m: 0.9590 - val_loss: 0.1170 - val_acc: 0.9678 - val_f1_m: 0.9676 - val_precision_m: 0.9692 - val_recall_m: 0.9660\n",
      "Epoch 12/20\n",
      "88/88 [==============================] - 1s 9ms/step - loss: 0.1371 - acc: 0.9611 - f1_m: 0.9611 - precision_m: 0.9634 - recall_m: 0.9588 - val_loss: 0.1177 - val_acc: 0.9666 - val_f1_m: 0.9665 - val_precision_m: 0.9678 - val_recall_m: 0.9653\n",
      "Epoch 13/20\n",
      "88/88 [==============================] - 1s 9ms/step - loss: 0.1371 - acc: 0.9620 - f1_m: 0.9620 - precision_m: 0.9644 - recall_m: 0.9596 - val_loss: 0.1161 - val_acc: 0.9674 - val_f1_m: 0.9672 - val_precision_m: 0.9682 - val_recall_m: 0.9662\n",
      "Epoch 14/20\n",
      "88/88 [==============================] - 1s 9ms/step - loss: 0.1356 - acc: 0.9614 - f1_m: 0.9616 - precision_m: 0.9638 - recall_m: 0.9595 - val_loss: 0.1147 - val_acc: 0.9678 - val_f1_m: 0.9677 - val_precision_m: 0.9689 - val_recall_m: 0.9665\n",
      "Epoch 15/20\n",
      "88/88 [==============================] - 1s 9ms/step - loss: 0.1337 - acc: 0.9618 - f1_m: 0.9618 - precision_m: 0.9642 - recall_m: 0.9595 - val_loss: 0.1132 - val_acc: 0.9682 - val_f1_m: 0.9683 - val_precision_m: 0.9693 - val_recall_m: 0.9673\n",
      "Epoch 16/20\n",
      "88/88 [==============================] - 1s 9ms/step - loss: 0.1332 - acc: 0.9619 - f1_m: 0.9620 - precision_m: 0.9643 - recall_m: 0.9598 - val_loss: 0.1154 - val_acc: 0.9689 - val_f1_m: 0.9683 - val_precision_m: 0.9700 - val_recall_m: 0.9666\n",
      "Epoch 17/20\n",
      "88/88 [==============================] - 1s 9ms/step - loss: 0.1340 - acc: 0.9616 - f1_m: 0.9618 - precision_m: 0.9641 - recall_m: 0.9596 - val_loss: 0.1171 - val_acc: 0.9665 - val_f1_m: 0.9663 - val_precision_m: 0.9673 - val_recall_m: 0.9653\n",
      "Epoch 18/20\n",
      "88/88 [==============================] - 1s 9ms/step - loss: 0.1352 - acc: 0.9617 - f1_m: 0.9620 - precision_m: 0.9642 - recall_m: 0.9598 - val_loss: 0.1176 - val_acc: 0.9687 - val_f1_m: 0.9684 - val_precision_m: 0.9695 - val_recall_m: 0.9673\n",
      "Epoch 19/20\n",
      "88/88 [==============================] - 1s 9ms/step - loss: 0.1346 - acc: 0.9616 - f1_m: 0.9617 - precision_m: 0.9639 - recall_m: 0.9596 - val_loss: 0.1114 - val_acc: 0.9688 - val_f1_m: 0.9688 - val_precision_m: 0.9697 - val_recall_m: 0.9679\n",
      "Epoch 20/20\n",
      "88/88 [==============================] - 1s 9ms/step - loss: 0.1300 - acc: 0.9632 - f1_m: 0.9633 - precision_m: 0.9655 - recall_m: 0.9610 - val_loss: 0.1118 - val_acc: 0.9687 - val_f1_m: 0.9684 - val_precision_m: 0.9695 - val_recall_m: 0.9673\n"
     ]
    }
   ],
   "source": [
    "history=model.fit(X_train, y_train,\n",
    "                  batch_size=BATCH_SIZE,\n",
    "                  epochs=epoch, validation_data=(X_test, y_test))"
   ]
  },
  {
   "cell_type": "markdown",
   "metadata": {
    "id": "zug6lEb4sJJS"
   },
   "source": [
    "## Evaluating model"
   ]
  },
  {
   "cell_type": "code",
   "execution_count": 2,
   "metadata": {
    "id": "cZ85jUmqQYRx"
   },
   "outputs": [
    {
     "ename": "NameError",
     "evalue": "name 'y_test' is not defined",
     "output_type": "error",
     "traceback": [
      "\u001b[1;31m---------------------------------------------------------------------------\u001b[0m",
      "\u001b[1;31mNameError\u001b[0m                                 Traceback (most recent call last)",
      "\u001b[1;32m~\\AppData\\Local\\Temp/ipykernel_88/794339974.py\u001b[0m in \u001b[0;36m<cell line: 6>\u001b[1;34m()\u001b[0m\n\u001b[0;32m      4\u001b[0m \u001b[0mF1Test\u001b[0m\u001b[1;33m=\u001b[0m\u001b[1;33m[\u001b[0m\u001b[1;33m]\u001b[0m\u001b[1;33m\u001b[0m\u001b[1;33m\u001b[0m\u001b[0m\n\u001b[0;32m      5\u001b[0m \u001b[0my_true\u001b[0m\u001b[1;33m=\u001b[0m\u001b[1;33m[\u001b[0m\u001b[1;33m]\u001b[0m\u001b[1;33m\u001b[0m\u001b[1;33m\u001b[0m\u001b[0m\n\u001b[1;32m----> 6\u001b[1;33m \u001b[1;32mfor\u001b[0m \u001b[0melement\u001b[0m \u001b[1;32min\u001b[0m \u001b[0my_test\u001b[0m\u001b[1;33m:\u001b[0m\u001b[1;33m\u001b[0m\u001b[1;33m\u001b[0m\u001b[0m\n\u001b[0m\u001b[0;32m      7\u001b[0m   \u001b[0my_true\u001b[0m\u001b[1;33m.\u001b[0m\u001b[0mappend\u001b[0m\u001b[1;33m(\u001b[0m\u001b[0mnp\u001b[0m\u001b[1;33m.\u001b[0m\u001b[0margmax\u001b[0m\u001b[1;33m(\u001b[0m\u001b[0melement\u001b[0m\u001b[1;33m)\u001b[0m\u001b[1;33m)\u001b[0m\u001b[1;33m\u001b[0m\u001b[1;33m\u001b[0m\u001b[0m\n\u001b[0;32m      8\u001b[0m \u001b[1;32mfor\u001b[0m \u001b[0mi\u001b[0m \u001b[1;32min\u001b[0m \u001b[0mrange\u001b[0m\u001b[1;33m(\u001b[0m\u001b[1;36m0\u001b[0m\u001b[1;33m,\u001b[0m\u001b[1;36m1\u001b[0m\u001b[1;33m)\u001b[0m\u001b[1;33m:\u001b[0m\u001b[1;33m\u001b[0m\u001b[1;33m\u001b[0m\u001b[0m\n",
      "\u001b[1;31mNameError\u001b[0m: name 'y_test' is not defined"
     ]
    }
   ],
   "source": [
    "AccuracyTest=[]\n",
    "PrecisionTest=[]\n",
    "RecallTest=[]\n",
    "F1Test=[]\n",
    "y_true=[]\n",
    "for element in y_test:\n",
    "  y_true.append(np.argmax(element))\n",
    "for i in range(0,1): \n",
    "    prediction_proba=model.predict(X_test)\n",
    "    y_pred=np.argmax(prediction_proba,axis=1)\n",
    "\n",
    "    Accurcy_Test= accuracy_score(y_true,y_pred)\n",
    "    Precision_Test=precision_score(y_true, y_pred,average='weighted')\n",
    "\n",
    "    Recall_Test=recall_score(y_true, y_pred, average='weighted')\n",
    "    F1_Test=f1_score(y_true, y_pred, average='weighted') \n",
    "\n",
    "    AccuracyTest.append(round(100*Accurcy_Test, 2))\n",
    "    PrecisionTest.append(round(100*Precision_Test, 2))\n",
    "    RecallTest.append(round(100*Recall_Test, 2))\n",
    "    F1Test.append(round(100*F1_Test, 2))"
   ]
  },
  {
   "cell_type": "code",
   "execution_count": null,
   "metadata": {
    "colab": {
     "base_uri": "https://localhost:8080/"
    },
    "executionInfo": {
     "elapsed": 16,
     "status": "ok",
     "timestamp": 1661357267442,
     "user": {
      "displayName": "hager saleh",
      "userId": "04961961339784377923"
     },
     "user_tz": -120
    },
    "id": "k25fKcEyvQ3q",
    "outputId": "f9a0876d-add1-446e-cc93-80aa195129bd"
   },
   "outputs": [],
   "source": [
    "ReultofTest=pd.DataFrame([])\n",
    "ReultofTest=ReultofTest.append({'AccuracyTest' : round(np.mean(AccuracyTest),2),'PrecisionTest':round(np.mean(PrecisionTest),2),\n",
    "             'RecallTest' : round(np.mean(RecallTest),2),'F1Test':round(np.mean(F1Test),2)}, ignore_index=True)\n",
    "\n",
    "ReultofTest.reindex(['AccuracyTest','PrecisionTest','RecallTest','F1Test'], axis=1)"
   ]
  },
  {
   "cell_type": "code",
   "execution_count": 3,
   "metadata": {
    "colab": {
     "base_uri": "https://localhost:8080/"
    },
    "executionInfo": {
     "elapsed": 14,
     "status": "ok",
     "timestamp": 1661357267443,
     "user": {
      "displayName": "hager saleh",
      "userId": "04961961339784377923"
     },
     "user_tz": -120
    },
    "id": "IZJlozBKBIK3",
    "outputId": "a3c988f1-69f7-4d02-f2fa-6724b5dfbaa7"
   },
   "outputs": [
    {
     "ename": "NameError",
     "evalue": "name 'y_pred' is not defined",
     "output_type": "error",
     "traceback": [
      "\u001b[1;31m---------------------------------------------------------------------------\u001b[0m",
      "\u001b[1;31mNameError\u001b[0m                                 Traceback (most recent call last)",
      "\u001b[1;32m~\\AppData\\Local\\Temp/ipykernel_88/3608839678.py\u001b[0m in \u001b[0;36m<cell line: 1>\u001b[1;34m()\u001b[0m\n\u001b[1;32m----> 1\u001b[1;33m \u001b[0mprint\u001b[0m\u001b[1;33m(\u001b[0m\u001b[0mclassification_report\u001b[0m\u001b[1;33m(\u001b[0m\u001b[0my_true\u001b[0m\u001b[1;33m,\u001b[0m \u001b[0my_pred\u001b[0m\u001b[1;33m,\u001b[0m \u001b[0mtarget_names\u001b[0m\u001b[1;33m=\u001b[0m\u001b[1;33m[\u001b[0m\u001b[1;34m'Normal'\u001b[0m\u001b[1;33m,\u001b[0m\u001b[1;34m'Artial Premature'\u001b[0m\u001b[1;33m,\u001b[0m\u001b[1;34m'Premature ventricular contraction'\u001b[0m\u001b[1;33m,\u001b[0m\u001b[1;34m'Fusion of ventricular and normal'\u001b[0m\u001b[1;33m,\u001b[0m\u001b[1;34m'Fusion of paced and normal'\u001b[0m\u001b[1;33m]\u001b[0m\u001b[1;33m)\u001b[0m\u001b[1;33m)\u001b[0m\u001b[1;33m\u001b[0m\u001b[1;33m\u001b[0m\u001b[0m\n\u001b[0m",
      "\u001b[1;31mNameError\u001b[0m: name 'y_pred' is not defined"
     ]
    }
   ],
   "source": [
    "print(classification_report(y_true, y_pred, target_names=['Normal','Artial Premature','Premature ventricular contraction','Fusion of ventricular and normal','Fusion of paced and normal']))"
   ]
  },
  {
   "cell_type": "code",
   "execution_count": null,
   "metadata": {},
   "outputs": [],
   "source": []
  }
 ],
 "metadata": {
  "accelerator": "GPU",
  "colab": {
   "collapsed_sections": [],
   "machine_shape": "hm",
   "provenance": []
  },
  "gpuClass": "standard",
  "kernelspec": {
   "display_name": "Python 3 (ipykernel)",
   "language": "python",
   "name": "python3"
  },
  "language_info": {
   "codemirror_mode": {
    "name": "ipython",
    "version": 3
   },
   "file_extension": ".py",
   "mimetype": "text/x-python",
   "name": "python",
   "nbconvert_exporter": "python",
   "pygments_lexer": "ipython3",
   "version": "3.9.7"
  }
 },
 "nbformat": 4,
 "nbformat_minor": 1
}
